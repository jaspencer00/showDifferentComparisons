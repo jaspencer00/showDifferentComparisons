{
  "nbformat": 4,
  "nbformat_minor": 0,
  "metadata": {
    "colab": {
      "provenance": [],
      "authorship_tag": "ABX9TyOJeSkRkhzms3NbGX6M9qys",
      "include_colab_link": true
    },
    "kernelspec": {
      "name": "python3",
      "display_name": "Python 3"
    },
    "language_info": {
      "name": "python"
    }
  },
  "cells": [
    {
      "cell_type": "markdown",
      "metadata": {
        "id": "view-in-github",
        "colab_type": "text"
      },
      "source": [
        "<a href=\"https://colab.research.google.com/github/jaspencer00/showDifferentComparisons/blob/main/showDifferentComparisons.ipynb\" target=\"_parent\"><img src=\"https://colab.research.google.com/assets/colab-badge.svg\" alt=\"Open In Colab\"/></a>"
      ]
    },
    {
      "cell_type": "code",
      "execution_count": 10,
      "metadata": {
        "colab": {
          "base_uri": "https://localhost:8080/"
        },
        "id": "RQG_WxW3e7Gt",
        "outputId": "78732414-cb43-49a8-cb06-e4880dab6c25"
      },
      "outputs": [
        {
          "output_type": "stream",
          "name": "stderr",
          "text": [
            "<ipython-input-10-c21a59b60794>:31: FutureWarning: The frame.append method is deprecated and will be removed from pandas in a future version. Use pandas.concat instead.\n",
            "  results_df = results_df.append(\n",
            "<ipython-input-10-c21a59b60794>:31: FutureWarning: The frame.append method is deprecated and will be removed from pandas in a future version. Use pandas.concat instead.\n",
            "  results_df = results_df.append(\n",
            "<ipython-input-10-c21a59b60794>:31: FutureWarning: The frame.append method is deprecated and will be removed from pandas in a future version. Use pandas.concat instead.\n",
            "  results_df = results_df.append(\n",
            "<ipython-input-10-c21a59b60794>:31: FutureWarning: The frame.append method is deprecated and will be removed from pandas in a future version. Use pandas.concat instead.\n",
            "  results_df = results_df.append(\n",
            "<ipython-input-10-c21a59b60794>:31: FutureWarning: The frame.append method is deprecated and will be removed from pandas in a future version. Use pandas.concat instead.\n",
            "  results_df = results_df.append(\n",
            "<ipython-input-10-c21a59b60794>:31: FutureWarning: The frame.append method is deprecated and will be removed from pandas in a future version. Use pandas.concat instead.\n",
            "  results_df = results_df.append(\n",
            "<ipython-input-10-c21a59b60794>:31: FutureWarning: The frame.append method is deprecated and will be removed from pandas in a future version. Use pandas.concat instead.\n",
            "  results_df = results_df.append(\n",
            "<ipython-input-10-c21a59b60794>:31: FutureWarning: The frame.append method is deprecated and will be removed from pandas in a future version. Use pandas.concat instead.\n",
            "  results_df = results_df.append(\n",
            "<ipython-input-10-c21a59b60794>:31: FutureWarning: The frame.append method is deprecated and will be removed from pandas in a future version. Use pandas.concat instead.\n",
            "  results_df = results_df.append(\n",
            "<ipython-input-10-c21a59b60794>:31: FutureWarning: The frame.append method is deprecated and will be removed from pandas in a future version. Use pandas.concat instead.\n",
            "  results_df = results_df.append(\n",
            "<ipython-input-10-c21a59b60794>:31: FutureWarning: The frame.append method is deprecated and will be removed from pandas in a future version. Use pandas.concat instead.\n",
            "  results_df = results_df.append(\n",
            "<ipython-input-10-c21a59b60794>:31: FutureWarning: The frame.append method is deprecated and will be removed from pandas in a future version. Use pandas.concat instead.\n",
            "  results_df = results_df.append(\n",
            "<ipython-input-10-c21a59b60794>:31: FutureWarning: The frame.append method is deprecated and will be removed from pandas in a future version. Use pandas.concat instead.\n",
            "  results_df = results_df.append(\n",
            "<ipython-input-10-c21a59b60794>:31: FutureWarning: The frame.append method is deprecated and will be removed from pandas in a future version. Use pandas.concat instead.\n",
            "  results_df = results_df.append(\n",
            "<ipython-input-10-c21a59b60794>:31: FutureWarning: The frame.append method is deprecated and will be removed from pandas in a future version. Use pandas.concat instead.\n",
            "  results_df = results_df.append(\n",
            "<ipython-input-10-c21a59b60794>:31: FutureWarning: The frame.append method is deprecated and will be removed from pandas in a future version. Use pandas.concat instead.\n",
            "  results_df = results_df.append(\n",
            "<ipython-input-10-c21a59b60794>:31: FutureWarning: The frame.append method is deprecated and will be removed from pandas in a future version. Use pandas.concat instead.\n",
            "  results_df = results_df.append(\n",
            "<ipython-input-10-c21a59b60794>:31: FutureWarning: The frame.append method is deprecated and will be removed from pandas in a future version. Use pandas.concat instead.\n",
            "  results_df = results_df.append(\n",
            "<ipython-input-10-c21a59b60794>:31: FutureWarning: The frame.append method is deprecated and will be removed from pandas in a future version. Use pandas.concat instead.\n",
            "  results_df = results_df.append(\n",
            "<ipython-input-10-c21a59b60794>:31: FutureWarning: The frame.append method is deprecated and will be removed from pandas in a future version. Use pandas.concat instead.\n",
            "  results_df = results_df.append(\n",
            "<ipython-input-10-c21a59b60794>:31: FutureWarning: The frame.append method is deprecated and will be removed from pandas in a future version. Use pandas.concat instead.\n",
            "  results_df = results_df.append(\n",
            "<ipython-input-10-c21a59b60794>:31: FutureWarning: The frame.append method is deprecated and will be removed from pandas in a future version. Use pandas.concat instead.\n",
            "  results_df = results_df.append(\n",
            "<ipython-input-10-c21a59b60794>:31: FutureWarning: The frame.append method is deprecated and will be removed from pandas in a future version. Use pandas.concat instead.\n",
            "  results_df = results_df.append(\n",
            "<ipython-input-10-c21a59b60794>:31: FutureWarning: The frame.append method is deprecated and will be removed from pandas in a future version. Use pandas.concat instead.\n",
            "  results_df = results_df.append(\n",
            "<ipython-input-10-c21a59b60794>:31: FutureWarning: The frame.append method is deprecated and will be removed from pandas in a future version. Use pandas.concat instead.\n",
            "  results_df = results_df.append(\n",
            "<ipython-input-10-c21a59b60794>:31: FutureWarning: The frame.append method is deprecated and will be removed from pandas in a future version. Use pandas.concat instead.\n",
            "  results_df = results_df.append(\n"
          ]
        }
      ],
      "source": [
        "import pandas as pd\n",
        "\n",
        "# Load the CSV file\n",
        "df = pd.read_csv(\"/content/sample_data/Full Mapping - Full Mapping (Ltd).csv\")\n",
        "\n",
        "# Create an empty dataframe to store the results\n",
        "results_df = pd.DataFrame(columns=[\"Col a\", \"Col b\", \"Col c\", \"Col d\", \"Col e\"])\n",
        "\n",
        "# Loop through each unique value in column a\n",
        "for source_code in df[\"Source Main Code\"].unique():\n",
        "    # Get all rows with the current source code\n",
        "    rows = df[df[\"Source Main Code\"] == source_code]\n",
        "    # Check if there are repeats for the current source code\n",
        "    if len(rows) > 1:\n",
        "        # Check if there are differences in column b or c\n",
        "        if rows[\"Dest Main Code\"].nunique() > 1 or rows[\"Sub Code\"].nunique() > 1:\n",
        "            # Get the number of differences and the first, second, and third instances of the dest main code + sub code\n",
        "            num_diffs = len(rows) - 1\n",
        "            first_instance = str(rows.iloc[0][\"Dest Main Code\"]) + \"/\" + str(rows.iloc[0][\"Sub Code\"])\n",
        "            # Get the second instance of the dest main code + sub code\n",
        "            if num_diffs >= 1:\n",
        "                second_instance = str(rows.iloc[1][\"Dest Main Code\"]) + \"/\" + str(rows.iloc[1][\"Sub Code\"])\n",
        "            else:\n",
        "                second_instance = \"\"\n",
        "            # Get the third instance of the dest main code + sub code\n",
        "            if num_diffs >= 2:\n",
        "                third_instance = str(rows.iloc[2][\"Dest Main Code\"]) + \"/\" + str(rows.iloc[2][\"Sub Code\"])\n",
        "            else:\n",
        "                third_instance = \"\"\n",
        "            # Add the rows with differences to the results dataframe\n",
        "            results_df = results_df.append(\n",
        "                {\n",
        "                    \"Col a\": source_code,\n",
        "                    \"Col b\": num_diffs,\n",
        "                    \"Col c\": first_instance,\n",
        "                    \"Col d\": second_instance,\n",
        "                    \"Col e\": third_instance,\n",
        "                },\n",
        "                ignore_index=True,\n",
        "            )\n",
        "\n",
        "# Save the results to a new CSV file\n",
        "results_df.to_csv(\"comparison.csv\", index=False)\n"
      ]
    }
  ]
}